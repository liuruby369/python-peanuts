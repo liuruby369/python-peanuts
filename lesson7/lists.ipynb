{
 "cells": [
  {
   "cell_type": "markdown",
   "metadata": {},
   "source": [
    "# lists"
   ]
  },
  {
   "cell_type": "code",
   "execution_count": 1,
   "metadata": {},
   "outputs": [
    {
     "name": "stdout",
     "output_type": "stream",
     "text": [
      "[1]\n"
     ]
    }
   ],
   "source": [
    "my_list = [1]\n",
    "print(my_list)"
   ]
  },
  {
   "cell_type": "code",
   "execution_count": 5,
   "metadata": {},
   "outputs": [
    {
     "name": "stdout",
     "output_type": "stream",
     "text": [
      "jkkljhlkjh\n",
      "['jkkljhlkjh']\n"
     ]
    }
   ],
   "source": [
    "a=input()\n",
    "my_list = [a]\n",
    "print(my_list)"
   ]
  },
  {
   "cell_type": "code",
   "execution_count": 10,
   "metadata": {},
   "outputs": [
    {
     "name": "stdout",
     "output_type": "stream",
     "text": [
      "[]\n",
      "k\n",
      "['k']\n"
     ]
    }
   ],
   "source": [
    "my_list = []\n",
    "print(my_list)\n",
    "a=input()\n",
    "my_list.append(a)\n",
    "print(my_list)"
   ]
  },
  {
   "cell_type": "code",
   "execution_count": 20,
   "metadata": {},
   "outputs": [
    {
     "name": "stdout",
     "output_type": "stream",
     "text": [
      "[]\n",
      "1\n",
      "2\n",
      "3\n",
      "['1', '2', '3']\n"
     ]
    }
   ],
   "source": [
    "my_list = []\n",
    "print(my_list)\n",
    "a=input()\n",
    "b=input()\n",
    "c=input()\n",
    "my_list.append(a)\n",
    "my_list.append(b)\n",
    "my_list.append(c)\n",
    "print(my_list)"
   ]
  },
  {
   "cell_type": "code",
   "execution_count": 22,
   "metadata": {},
   "outputs": [
    {
     "name": "stdout",
     "output_type": "stream",
     "text": [
      "1\n",
      "2\n",
      "3\n",
      "4\n",
      "5\n",
      "['1', '2', '3', '4', '5']\n"
     ]
    }
   ],
   "source": [
    "my_list = []\n",
    "for z in range(5):\n",
    "    a=input()\n",
    "    my_list.append(a)\n",
    "print(my_list)\n",
    "\n",
    "    "
   ]
  },
  {
   "cell_type": "code",
   "execution_count": 42,
   "metadata": {},
   "outputs": [
    {
     "name": "stdout",
     "output_type": "stream",
     "text": [
      "hello Ruby\n",
      "hello Jerry\n",
      "hello Timmy\n",
      "hello Ella\n",
      "hello Fanny\n"
     ]
    }
   ],
   "source": [
    "names = ['Ruby','Jerry','Timmy','Ella','Fanny']\n",
    "for z in range(5):\n",
    "    print('hello',names[z])\n",
    "    \n"
   ]
  },
  {
   "cell_type": "code",
   "execution_count": 49,
   "metadata": {},
   "outputs": [
    {
     "name": "stdout",
     "output_type": "stream",
     "text": [
      "goodbye Ruby\n",
      "goodbye Jerry\n",
      "goodbye Timmy\n",
      "goodbye Ella\n",
      "goodbye Fanny\n",
      "hello Harry\n"
     ]
    }
   ],
   "source": [
    "names = ['Ruby','Jerry','Timmy','Ella','Fanny', 'Harry']\n",
    "for z in range(len(names)):\n",
    "    if names[z] == 'Harry':\n",
    "        print('hello',names[z])\n",
    "    else:\n",
    "        print('goodbye',names[z])\n",
    "    "
   ]
  },
  {
   "cell_type": "code",
   "execution_count": 47,
   "metadata": {},
   "outputs": [
    {
     "data": {
      "text/plain": [
       "6"
      ]
     },
     "execution_count": 47,
     "metadata": {},
     "output_type": "execute_result"
    }
   ],
   "source": [
    "len(names)"
   ]
  },
  {
   "cell_type": "code",
   "execution_count": null,
   "metadata": {},
   "outputs": [],
   "source": []
  }
 ],
 "metadata": {
  "kernelspec": {
   "display_name": "Python 3",
   "language": "python",
   "name": "python3"
  },
  "language_info": {
   "codemirror_mode": {
    "name": "ipython",
    "version": 3
   },
   "file_extension": ".py",
   "mimetype": "text/x-python",
   "name": "python",
   "nbconvert_exporter": "python",
   "pygments_lexer": "ipython3",
   "version": "3.8.3"
  }
 },
 "nbformat": 4,
 "nbformat_minor": 4
}
